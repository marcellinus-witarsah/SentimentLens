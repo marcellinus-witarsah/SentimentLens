{
 "cells": [
  {
   "cell_type": "code",
   "execution_count": 1,
   "metadata": {},
   "outputs": [],
   "source": [
    "%reload_ext autoreload\n",
    "%autoreload 2\n",
    "import pandas as pd\n",
    "import pathlib\n",
    "import os\n",
    "import gc\n",
    "import sys\n",
    "import seaborn as sns\n",
    "from dotenv import find_dotenv, load_dotenv\n",
    "\n",
    "# Insert project folder into Python System\n",
    "load_dotenv(find_dotenv())\n",
    "sys.path.append(os.getenv(\"PROJECT_FOLDER\"))"
   ]
  },
  {
   "cell_type": "markdown",
   "metadata": {},
   "source": [
    "# Data Ingestion"
   ]
  },
  {
   "cell_type": "code",
   "execution_count": 4,
   "metadata": {},
   "outputs": [
    {
     "name": "stdout",
     "output_type": "stream",
     "text": [
      "2024-03-06 14:13:36,604 - sentiment-classifier-logger - INFO - Ingest ../data/raw/sampled_dataset.csv\n"
     ]
    }
   ],
   "source": [
    "import os\n",
    "import sys\n",
    "import pandas as pd\n",
    "from pathlib import Path\n",
    "from dotenv import find_dotenv, load_dotenv\n",
    "\n",
    "# Insert project folder into Python System\n",
    "load_dotenv(find_dotenv())\n",
    "sys.path.append(os.getenv(\"PROJECT_FOLDER\"))\n",
    "from src.utils import logger\n",
    "\n",
    "class DataIngester:\n",
    "    def __init__(self, data_path: str):\n",
    "        self.data_path = data_path\n",
    "        \n",
    "    def run(self) -> pd.DataFrame:\n",
    "        logger.info(f\"Ingest {self.data_path}\")\n",
    "        df = pd.read_csv(self.data_path)\n",
    "        return df\n",
    "\n",
    "df = DataIngester(\"../data/raw/sampled_dataset.csv\").run()"
   ]
  },
  {
   "cell_type": "markdown",
   "metadata": {},
   "source": [
    "# Data Cleaning"
   ]
  },
  {
   "cell_type": "code",
   "execution_count": 5,
   "metadata": {},
   "outputs": [
    {
     "name": "stdout",
     "output_type": "stream",
     "text": [
      "2024-03-06 14:13:37,158 - sentiment-classifier-logger - INFO - Ingest ../data/raw/sampled_dataset.csv\n",
      "2024-03-06 14:13:37,338 - sentiment-classifier-logger - INFO - Cleaning Data ...\n"
     ]
    }
   ],
   "source": [
    "import os\n",
    "import sys\n",
    "import pandas as pd\n",
    "from pathlib import Path\n",
    "from dotenv import find_dotenv, load_dotenv\n",
    "\n",
    "# Insert project folder into Python System\n",
    "load_dotenv(find_dotenv())\n",
    "sys.path.append(os.getenv(\"PROJECT_FOLDER\"))\n",
    "from src.utils import logger\n",
    "\n",
    "class DataCleaner:\n",
    "    def __init__(self, df: pd.DataFrame):\n",
    "        self.df = df\n",
    "\n",
    "    def run(self) -> pd.DataFrame:\n",
    "        logger.info(f\"Cleaning Data ...\")\n",
    "        self.df = self.df.drop_duplicates()  # drop duplicates\n",
    "        self.df = self.df.dropna(subset=['reviewText'], axis=0)  # drop missing `reviewText` columns\n",
    "        self.df = self.df[[\"reviewText\", \"overall\"]]  # select columns\n",
    "        self.df = self.df.reset_index(drop=True)  # reset index\n",
    "        return self.df\n",
    "\n",
    "df = DataIngester(\"../data/raw/sampled_dataset.csv\").run()\n",
    "df = DataCleaner(df).run()"
   ]
  },
  {
   "cell_type": "markdown",
   "metadata": {},
   "source": [
    "# Data Preprocessing"
   ]
  },
  {
   "cell_type": "code",
   "execution_count": 6,
   "metadata": {},
   "outputs": [
    {
     "name": "stdout",
     "output_type": "stream",
     "text": [
      "2024-03-06 14:13:40,046 - sentiment-classifier-logger - INFO - Ingest ../data/raw/sampled_dataset.csv\n",
      "2024-03-06 14:13:40,176 - sentiment-classifier-logger - INFO - Cleaning Data ...\n",
      "2024-03-06 14:13:40,226 - sentiment-classifier-logger - INFO - Labeling Data ...\n"
     ]
    }
   ],
   "source": [
    "import os\n",
    "import sys\n",
    "import pandas as pd\n",
    "from dotenv import find_dotenv, load_dotenv\n",
    "\n",
    "# Insert project folder into Python System\n",
    "load_dotenv(find_dotenv())\n",
    "sys.path.append(os.getenv(\"PROJECT_FOLDER\"))\n",
    "from src.utils import logger\n",
    "\n",
    "class DataLabeler:\n",
    "    def __init__(self, df: pd.DataFrame):\n",
    "        self.df = df\n",
    "\n",
    "    def run(self) -> pd.DataFrame:\n",
    "        logger.info(f\"Labeling Data ...\")\n",
    "        self.df['sentiment'] = self.df['overall'].apply(lambda x: 1 if x >= 3 else 0)  # convert overall to sentiment\n",
    "        self.df = self.df.drop(columns=['overall'])\n",
    "        return self.df\n",
    "\n",
    "df = DataIngester(\"../data/raw/sampled_dataset.csv\").run()\n",
    "df = DataCleaner(df).run()\n",
    "df = DataLabeler(df).run()"
   ]
  },
  {
   "cell_type": "code",
   "execution_count": 9,
   "metadata": {},
   "outputs": [
    {
     "name": "stdout",
     "output_type": "stream",
     "text": [
      "2024-03-06 14:14:16,080 - sentiment-classifier-logger - INFO - Ingest ../data/raw/sampled_dataset.csv\n",
      "2024-03-06 14:14:16,254 - sentiment-classifier-logger - INFO - Cleaning Data ...\n",
      "2024-03-06 14:14:16,315 - sentiment-classifier-logger - INFO - Labeling Data ...\n",
      "2024-03-06 14:14:16,329 - sentiment-classifier-logger - INFO - Preprocessing Data ...\n"
     ]
    }
   ],
   "source": [
    "import os\n",
    "import sys\n",
    "import string\n",
    "import pandas as pd\n",
    "from nltk.corpus import stopwords\n",
    "from nltk.tokenize import word_tokenize\n",
    "from nltk.stem import WordNetLemmatizer\n",
    "from typing_extensions import Annotated\n",
    "\n",
    "# Insert project folder into Python System\n",
    "load_dotenv(find_dotenv())\n",
    "sys.path.append(os.getenv(\"PROJECT_FOLDER\"))\n",
    "from src.utils import logger\n",
    "\n",
    "class DataPreprocessor:\n",
    "    def __init__(self, df: pd.DataFrame):\n",
    "        self.df = df\n",
    "        self.lemmatizer = WordNetLemmatizer()\n",
    "        self.stopwords_en = stopwords.words(\"english\")\n",
    "        self.punctuations = string.punctuation\n",
    "\n",
    "    def preprocess_text(self, text: str) -> str:\n",
    "        tokens = word_tokenize(text.lower())  # normalize, remove punctuations, and tokenize text\n",
    "        filtered_tokens = [token for token in tokens if token not in self.stopwords_en and token not in self.punctuations]  # filter stop words\n",
    "        lemmatized_tokens = [self.lemmatizer.lemmatize(token) for token in filtered_tokens]  # lemmatize words\n",
    "        return \" \".join(lemmatized_tokens)  # Join the tokens back into a string\n",
    "\n",
    "    def run(self) -> pd.DataFrame:\n",
    "        logger.info(f\"Preprocessing Data ...\")\n",
    "        self.df[\"preprocessed_review_text\"] = self.df[\"reviewText\"].apply(self.preprocess_text)  # text preprocessing\n",
    "        self.df = self.df[(self.df[\"preprocessed_review_text\"].apply(lambda x: len(x)) != 0)]  # remove 0 length preprocess text\n",
    "        self.df = self.df[[\"preprocessed_review_text\", \"sentiment\"]]  # select columns for model training\n",
    "        return self.df\n",
    "\n",
    "df = DataIngester(\"../data/raw/sampled_dataset.csv\").run()\n",
    "df = DataCleaner(df).run()\n",
    "df = DataLabeler(df).run()\n",
    "df = DataPreprocessor(df).run()"
   ]
  },
  {
   "cell_type": "code",
   "execution_count": 11,
   "metadata": {},
   "outputs": [
    {
     "data": {
      "text/plain": [
       "'d:\\\\Documents\\\\GitHub\\\\customer-product-reviews-sentiment-classifier'"
      ]
     },
     "execution_count": 11,
     "metadata": {},
     "output_type": "execute_result"
    }
   ],
   "source": [
    "os.chdir(\"..\")\n",
    "%pwd"
   ]
  },
  {
   "cell_type": "code",
   "execution_count": null,
   "metadata": {},
   "outputs": [],
   "source": []
  }
 ],
 "metadata": {
  "kernelspec": {
   "display_name": "nlp-tools",
   "language": "python",
   "name": "python3"
  },
  "language_info": {
   "codemirror_mode": {
    "name": "ipython",
    "version": 3
   },
   "file_extension": ".py",
   "mimetype": "text/x-python",
   "name": "python",
   "nbconvert_exporter": "python",
   "pygments_lexer": "ipython3",
   "version": "3.10.13"
  }
 },
 "nbformat": 4,
 "nbformat_minor": 2
}
