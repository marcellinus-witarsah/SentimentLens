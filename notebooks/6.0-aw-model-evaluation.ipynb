{
 "cells": [
  {
   "cell_type": "code",
   "execution_count": 34,
   "metadata": {},
   "outputs": [],
   "source": [
    "import os\n",
    "import sys\n",
    "import json\n",
    "import mlflow\n",
    "from pathlib import Path\n",
    "from dataclasses import dataclass\n",
    "from dotenv import load_dotenv, find_dotenv\n",
    "load_dotenv(find_dotenv())\n",
    "sys.path.append(os.getenv(\"PROJECT_FOLDER\"))\n",
    "from src.utils.common import logger\n",
    "\n",
    "@dataclass(frozen=True)\n",
    "class ModelEvaluationConfig:\n",
    "    root_dir: Path\n",
    "    test_data_path: Path\n",
    "    model_path: Path\n",
    "    model_params: dict\n",
    "    metric_file_name: Path\n",
    "    target_column: str\n",
    "    mlflow_uri: str"
   ]
  },
  {
   "cell_type": "code",
   "execution_count": 13,
   "metadata": {},
   "outputs": [],
   "source": [
    "os.chdir(\"..\")"
   ]
  },
  {
   "cell_type": "code",
   "execution_count": 35,
   "metadata": {},
   "outputs": [],
   "source": [
    "from src.utils.common import read_yaml, create_directories\n",
    "\n",
    "class ConfigurationManager:\n",
    "    def __init__(\n",
    "        self,\n",
    "        config_filepath: str = os.getenv(\"CONFIG_FILE_PATH\"),\n",
    "        params_filepath: str = os.getenv(\"PARAMS_FILE_PATH\"),\n",
    "        schema_filepath: str = os.getenv(\"SCHEMA_FILE_PATH\"),\n",
    "    ):\n",
    "        self.config = read_yaml(Path(config_filepath))\n",
    "        self.params = read_yaml(Path(params_filepath))\n",
    "        self.schema = read_yaml(Path(schema_filepath))\n",
    "        \n",
    "        create_directories([self.config.artifacts_root])\n",
    "    \n",
    "    def get_model_evaluation_config(self):\n",
    "        \"\"\"\n",
    "        Get configuration for model training\n",
    "        \"\"\"\n",
    "        config = self.config.model_evaluation\n",
    "        params = self.params.MultinomialNB\n",
    "        schema = self.schema.TARGET_COLUMN\n",
    "\n",
    "        create_directories([config.root_dir])\n",
    "        \n",
    "        model_evaluation_config = ModelEvaluationConfig(\n",
    "            root_dir = Path(config.root_dir),\n",
    "            test_data_path = Path(config.test_data_path),\n",
    "            model_path = Path(config.model_path),\n",
    "            model_params = params,\n",
    "            metric_file_name = Path(config.metric_file_name),\n",
    "            target_column = schema.name,\n",
    "            mlflow_uri = os.getenv(\"MLFLOW_TRACKING_URI\")\n",
    "        )\n",
    "        \n",
    "        return model_evaluation_config"
   ]
  },
  {
   "cell_type": "code",
   "execution_count": 36,
   "metadata": {},
   "outputs": [],
   "source": [
    "import os\n",
    "import joblib\n",
    "import pandas as pd\n",
    "import numpy as np\n",
    "from urllib.parse import urlparse\n",
    "import mlflow\n",
    "from sklearn.metrics import accuracy_score, precision_score, recall_score, f1_score"
   ]
  },
  {
   "cell_type": "code",
   "execution_count": 51,
   "metadata": {},
   "outputs": [],
   "source": [
    "class ModelEvaluation:\n",
    "    def __init__(self, config: ModelEvaluationConfig):\n",
    "        self.config = config\n",
    "\n",
    "    def evaluate_metrics(self, y_test, y_pred):\n",
    "        precision = precision_score(y_test, y_pred)\n",
    "        recall = recall_score(y_test, y_pred)\n",
    "        f1 = f1_score(y_test, y_pred)\n",
    "        return precision, recall, f1\n",
    "\n",
    "    def evaluate_model(self):\n",
    "        test = pd.read_csv(self.config.test_data_path)\n",
    "        model = joblib.load(self.config.model_path)\n",
    "\n",
    "        X_test = test.drop(columns=[self.config.target_column], axis=1).to_numpy().reshape(-1)\n",
    "        y_test = test[[self.config.target_column]].to_numpy().reshape(-1)\n",
    "\n",
    "        mlflow.set_registry_uri(self.config.mlflow_uri)\n",
    "        tracking_url_type_store = urlparse(mlflow.get_tracking_uri()).scheme\n",
    "\n",
    "\n",
    "        with mlflow.start_run():\n",
    "            y_pred = model.predict(X_test)\n",
    "            precision, recall, f1 = self.evaluate_metrics(y_test, y_pred)\n",
    "            scores = {\"precision\": precision, \"recall\": recall, \"f1_score\": f1}\n",
    "            with open(self.config.metric_file_name, \"w\") as f:\n",
    "                json.dump(scores, f)\n",
    "            mlflow.log_params(self.config.model_params)\n",
    "            mlflow.log_metric(\"precision\", precision)\n",
    "            mlflow.log_metric(\"recall\", recall)\n",
    "            mlflow.log_metric(\"f1\", f1)\n",
    "\n",
    "            if tracking_url_type_store != 'file':\n",
    "                mlflow.sklearn.log_model(model, \"model\", registered_model_name=\"CountVectorizer+MultinomialNB\")\n",
    "            else:\n",
    "                mlflow.sklearn.log_model(model, \"model\")\n",
    "\n"
   ]
  },
  {
   "cell_type": "code",
   "execution_count": 52,
   "metadata": {},
   "outputs": [
    {
     "name": "stdout",
     "output_type": "stream",
     "text": [
      "2024-03-08 17:00:30,115 - sentiment-classifier-logger - INFO - yaml file: D:\\Documents\\GitHub\\customer-product-reviews-sentiment-classifier\\config\\config.yaml loaded successfully\n",
      "2024-03-08 17:00:30,118 - sentiment-classifier-logger - INFO - yaml file: D:\\Documents\\GitHub\\customer-product-reviews-sentiment-classifier\\params.yaml loaded successfully\n",
      "2024-03-08 17:00:30,121 - sentiment-classifier-logger - INFO - yaml file: D:\\Documents\\GitHub\\customer-product-reviews-sentiment-classifier\\schema.yaml loaded successfully\n",
      "2024-03-08 17:00:30,122 - sentiment-classifier-logger - INFO - Created directory at: artifacts\n",
      "2024-03-08 17:00:30,125 - sentiment-classifier-logger - INFO - Created directory at: artifacts/model_evaluation\n"
     ]
    },
    {
     "name": "stderr",
     "output_type": "stream",
     "text": [
      "Successfully registered model 'CountVectorizer+MultinomialNB'.\n",
      "2024/03/08 17:01:01 INFO mlflow.store.model_registry.abstract_store: Waiting up to 300 seconds for model version to finish creation. Model name: CountVectorizer+MultinomialNB, version 1\n",
      "Created version '1' of model 'CountVectorizer+MultinomialNB'.\n"
     ]
    }
   ],
   "source": [
    "try:\n",
    "    configuration_manager = ConfigurationManager()\n",
    "    model_evaluation = ModelEvaluation(configuration_manager.get_model_evaluation_config())\n",
    "    model_evaluation.evaluate_model()\n",
    "except Exception as e:\n",
    "    logger.error(e)"
   ]
  }
 ],
 "metadata": {
  "kernelspec": {
   "display_name": "nlp-tools",
   "language": "python",
   "name": "python3"
  },
  "language_info": {
   "codemirror_mode": {
    "name": "ipython",
    "version": 3
   },
   "file_extension": ".py",
   "mimetype": "text/x-python",
   "name": "python",
   "nbconvert_exporter": "python",
   "pygments_lexer": "ipython3",
   "version": "3.10.13"
  }
 },
 "nbformat": 4,
 "nbformat_minor": 2
}
