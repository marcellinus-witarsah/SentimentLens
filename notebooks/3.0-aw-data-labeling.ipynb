{
 "cells": [
  {
   "cell_type": "code",
   "execution_count": 14,
   "metadata": {},
   "outputs": [],
   "source": [
    "%reload_ext autoreload\n",
    "%autoreload 2\n",
    "import os\n",
    "import sys\n",
    "from dotenv import load_dotenv, find_dotenv\n",
    "from dataclasses import dataclass\n",
    "from pathlib import Path\n",
    "load_dotenv(find_dotenv())\n",
    "sys.path.append(os.getenv(\"PROJECT_FOLDER\"))\n",
    "from src.utils.common import logger, read_yaml, create_directories\n",
    "\n",
    "@dataclass(frozen=True)\n",
    "class DataLabelingConfig:\n",
    "    root_dir: Path\n",
    "    source_path: Path\n",
    "    target_dir: Path "
   ]
  },
  {
   "cell_type": "code",
   "execution_count": 21,
   "metadata": {},
   "outputs": [],
   "source": [
    "# os.chdir(\"..\")"
   ]
  },
  {
   "cell_type": "code",
   "execution_count": 22,
   "metadata": {},
   "outputs": [],
   "source": [
    "class ConfigurationManager:\n",
    "    def __init__(\n",
    "        self,\n",
    "        config_filepath: str = os.getenv(\"CONFIG_FILE_PATH\"),\n",
    "        params_filepath: str = os.getenv(\"PARAMS_FILE_PATH\"),\n",
    "        schema_filepath: str = os.getenv(\"SCHEMA_FILE_PATH\"),\n",
    "    ):\n",
    "        self.config = read_yaml(Path(config_filepath))\n",
    "        self.params = read_yaml(Path(params_filepath))\n",
    "        self.schema = read_yaml(Path(schema_filepath))\n",
    "        create_directories([self.config.artifacts_root])\n",
    "\n",
    "    def get_data_labeling_config(self) -> DataLabelingConfig:\n",
    "        \"\"\"\n",
    "        Get configuration for data labeling\n",
    "        \n",
    "        Returns:\n",
    "            DataLabelingConfig: Configuration for data labeling\n",
    "        \"\"\"\n",
    "        config = self.config.data_labeling\n",
    "\n",
    "        create_directories([config.root_dir])\n",
    "\n",
    "        data_labeling_config = DataLabelingConfig(\n",
    "            root_dir = config.root_dir,\n",
    "            source_path  = config.source_path,\n",
    "            target_dir = config.target_dir,\n",
    "        )\n",
    "        return data_labeling_config"
   ]
  },
  {
   "cell_type": "code",
   "execution_count": 23,
   "metadata": {},
   "outputs": [],
   "source": [
    "import pandas as pd\n",
    "\n",
    "class DataLabeling:\n",
    "    def __init__(self, config: DataLabelingConfig):\n",
    "        \"\"\"\n",
    "        Instantiate `DataIngestion` class\n",
    "\n",
    "        Args:\n",
    "            config (DataIngestionConfig): configuration for data ingestion\n",
    "        \"\"\"\n",
    "        self.config = config\n",
    "\n",
    "    def label_data(self):\n",
    "        \"\"\"Label data\"\"\"\n",
    "        source_path = self.config.source_path\n",
    "        df = pd.read_csv(source_path)\n",
    "        df['sentiment'] = df['overall'].apply(lambda x: 1 if x >= 3 else 0)  # convert overall to sentiment\n",
    "        df = df.drop(columns=['overall'])\n",
    "        df.to_csv(self.config.target_dir+\"/sample_data.csv\", index=False)"
   ]
  },
  {
   "cell_type": "code",
   "execution_count": 24,
   "metadata": {},
   "outputs": [
    {
     "name": "stdout",
     "output_type": "stream",
     "text": [
      "2024-03-06 21:02:14,628 - sentiment-classifier-logger - INFO - yaml file: C:\\Users\\USER\\Documents\\GitHub\\customer-product-reviews-sentiment-classifier\\config\\config.yaml loaded successfully\n",
      "2024-03-06 21:02:14,630 - sentiment-classifier-logger - INFO - yaml file: C:\\Users\\USER\\Documents\\GitHub\\customer-product-reviews-sentiment-classifier\\params.yaml loaded successfully\n",
      "2024-03-06 21:02:14,634 - sentiment-classifier-logger - INFO - yaml file: C:\\Users\\USER\\Documents\\GitHub\\customer-product-reviews-sentiment-classifier\\schema.yaml loaded successfully\n",
      "2024-03-06 21:02:14,636 - sentiment-classifier-logger - INFO - Created directory at: artifacts\n",
      "2024-03-06 21:02:14,637 - sentiment-classifier-logger - INFO - Created directory at: artifacts/data_labeling\n"
     ]
    }
   ],
   "source": [
    "try:\n",
    "    configuration_manager = ConfigurationManager()\n",
    "    data_labeling = DataLabeling(config=configuration_manager.get_data_labeling_config())\n",
    "    data_labeling.label_data()\n",
    "except Exception as e:\n",
    "    logger.error(e)\n"
   ]
  }
 ],
 "metadata": {
  "kernelspec": {
   "display_name": "nlp-tools",
   "language": "python",
   "name": "python3"
  },
  "language_info": {
   "codemirror_mode": {
    "name": "ipython",
    "version": 3
   },
   "file_extension": ".py",
   "mimetype": "text/x-python",
   "name": "python",
   "nbconvert_exporter": "python",
   "pygments_lexer": "ipython3",
   "version": "3.10.13"
  }
 },
 "nbformat": 4,
 "nbformat_minor": 2
}
