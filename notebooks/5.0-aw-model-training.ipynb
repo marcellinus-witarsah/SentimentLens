{
 "cells": [
  {
   "cell_type": "code",
   "execution_count": 1,
   "metadata": {},
   "outputs": [],
   "source": [
    "%reload_ext autoreload\n",
    "%autoreload 2\n",
    "import os\n",
    "import sys\n",
    "from dotenv import load_dotenv, find_dotenv\n",
    "from dataclasses import dataclass\n",
    "from pathlib import Path\n",
    "load_dotenv(find_dotenv())\n",
    "sys.path.append(os.getenv(\"PROJECT_FOLDER\"))\n",
    "from src.utils.common import logger, read_yaml, create_directories\n",
    "\n",
    "@dataclass(frozen=True)\n",
    "class ModelTrainerConfig:\n",
    "    root_dir: Path\n",
    "    train_data_path: Path\n",
    "    test_data_path: Path\n",
    "    model_name: str\n",
    "    model_params: dict\n",
    "    target_column: str"
   ]
  },
  {
   "cell_type": "code",
   "execution_count": 2,
   "metadata": {},
   "outputs": [],
   "source": [
    "# os.chdir(\"..\")"
   ]
  },
  {
   "cell_type": "code",
   "execution_count": 3,
   "metadata": {},
   "outputs": [],
   "source": [
    "from src.utils.common import read_yaml, create_directories\n",
    "\n",
    "class ConfigurationManager:\n",
    "    def __init__(\n",
    "        self,\n",
    "        config_filepath: str = os.getenv(\"CONFIG_FILE_PATH\"),\n",
    "        params_filepath: str = os.getenv(\"PARAMS_FILE_PATH\"),\n",
    "        schema_filepath: str = os.getenv(\"SCHEMA_FILE_PATH\"),\n",
    "    ):\n",
    "        self.config = read_yaml(Path(config_filepath))\n",
    "        self.params = read_yaml(Path(params_filepath))\n",
    "        self.schema = read_yaml(Path(schema_filepath))\n",
    "        \n",
    "        create_directories([self.config.artifacts_root])\n",
    "    \n",
    "    def get_model_trainer_config(self):\n",
    "        \"\"\"\n",
    "        Get configuration for model training\n",
    "        \"\"\"\n",
    "        config = self.config.model_trainer\n",
    "        params = self.params.MultinomialNB\n",
    "        schema = self.schema.TARGET_COLUMN\n",
    "\n",
    "        create_directories([config.root_dir])\n",
    "        \n",
    "        model_trainer_config = ModelTrainerConfig(\n",
    "            root_dir = config.root_dir,\n",
    "            train_data_path = config.train_data_path,\n",
    "            test_data_path = config.test_data_path,\n",
    "            model_name = config.model_name,\n",
    "            model_params = params,\n",
    "            target_column = schema.name\n",
    "        )\n",
    "        \n",
    "        return model_trainer_config"
   ]
  },
  {
   "cell_type": "code",
   "execution_count": 4,
   "metadata": {},
   "outputs": [],
   "source": [
    "import joblib\n",
    "import pandas as pd\n",
    "from sklearn.feature_extraction.text import CountVectorizer, TfidfVectorizer\n",
    "from sklearn.pipeline import Pipeline\n",
    "from sklearn.naive_bayes import MultinomialNB\n",
    "\n",
    "class ModelTrainer:\n",
    "    def __init__(self, config: ModelTrainerConfig):\n",
    "        \"\"\"\n",
    "        Instantiate `ModelTrainer` class\n",
    "\n",
    "        Args:\n",
    "            config (ModelTrainerConfig): Configuration for model training\n",
    "        \"\"\"\n",
    "        self.config = config\n",
    "    \n",
    "    def train(self):\n",
    "        \"\"\"\n",
    "        Train and save model\n",
    "        \"\"\"\n",
    "        logger.info(\"Train model\")\n",
    "        train = pd.read_csv(self.config.train_data_path) \n",
    "        test = pd.read_csv(self.config.test_data_path)\n",
    "\n",
    "        X_train = train.drop(columns=[self.config.target_column], axis=1).to_numpy().reshape(-1)\n",
    "        y_train = train[self.config.target_column].to_numpy().reshape(-1)\n",
    "        model = Pipeline([\n",
    "            ('CountVectorizer', CountVectorizer()),\n",
    "            ('MultinomialNB', MultinomialNB(**self.config.model_params))\n",
    "        ])\n",
    "        model.fit(X_train, y_train)\n",
    "        logger.info(\"Save model\")\n",
    "        joblib.dump(model, self.config.root_dir+\"/\"+self.config.model_name)"
   ]
  },
  {
   "cell_type": "code",
   "execution_count": 5,
   "metadata": {},
   "outputs": [
    {
     "name": "stdout",
     "output_type": "stream",
     "text": [
      "2024-03-08 13:49:01,832 - sentiment-classifier-logger - INFO - yaml file: D:\\Documents\\GitHub\\customer-product-reviews-sentiment-classifier\\config\\config.yaml loaded successfully\n",
      "2024-03-08 13:49:01,832 - sentiment-classifier-logger - INFO - yaml file: D:\\Documents\\GitHub\\customer-product-reviews-sentiment-classifier\\params.yaml loaded successfully\n",
      "2024-03-08 13:49:01,840 - sentiment-classifier-logger - INFO - yaml file: D:\\Documents\\GitHub\\customer-product-reviews-sentiment-classifier\\schema.yaml loaded successfully\n",
      "2024-03-08 13:49:01,842 - sentiment-classifier-logger - INFO - Created directory at: artifacts\n",
      "2024-03-08 13:49:01,842 - sentiment-classifier-logger - INFO - Created directory at: artifacts/model_trainer\n",
      "2024-03-08 13:49:01,842 - sentiment-classifier-logger - INFO - Train model\n",
      "2024-03-08 13:49:02,433 - sentiment-classifier-logger - INFO - Save model\n"
     ]
    }
   ],
   "source": [
    "try:\n",
    "    configuration_manager = ConfigurationManager()\n",
    "    model_trainer = ModelTrainer(config=configuration_manager.get_model_trainer_config())\n",
    "    model_trainer.train()\n",
    "except Exception as e:\n",
    "    logger.error(e)"
   ]
  }
 ],
 "metadata": {
  "kernelspec": {
   "display_name": "nlp-tools",
   "language": "python",
   "name": "python3"
  },
  "language_info": {
   "codemirror_mode": {
    "name": "ipython",
    "version": 3
   },
   "file_extension": ".py",
   "mimetype": "text/x-python",
   "name": "python",
   "nbconvert_exporter": "python",
   "pygments_lexer": "ipython3",
   "version": "3.10.13"
  }
 },
 "nbformat": 4,
 "nbformat_minor": 2
}
