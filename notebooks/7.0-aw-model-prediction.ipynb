{
 "cells": [
  {
   "cell_type": "code",
   "execution_count": 1,
   "metadata": {},
   "outputs": [],
   "source": [
    "import os\n",
    "import sys\n",
    "import numpy as np\n",
    "import joblib\n",
    "from pathlib import Path\n",
    "from dataclasses import dataclass\n",
    "from dotenv import load_dotenv, find_dotenv\n",
    "load_dotenv(find_dotenv())\n",
    "sys.path.append(os.getenv(\"PROJECT_FOLDER\"))\n",
    "from src.utils.common import logger\n",
    "from src.data.data_transformation import DataTransformation\n",
    "from src.constants import CONFIG_FILE_PATH, SCHEMA_FILE_PATH, PARAMS_FILE_PATH\n",
    "\n",
    "@dataclass(frozen=True)\n",
    "class DataTransformationConfig:\n",
    "    root_dir: Path\n",
    "    source_path: Path\n",
    "    cleaned_data_path: Path\n",
    "    transformed_data_path: Path\n",
    "    train_data_path: Path\n",
    "    test_data_path: Path\n",
    "\n",
    "@dataclass(frozen=True)\n",
    "class ModelPredictorConfig:\n",
    "    root_dir: Path\n",
    "    model_path: Path "
   ]
  },
  {
   "cell_type": "code",
   "execution_count": 2,
   "metadata": {},
   "outputs": [],
   "source": [
    "os.chdir(\"..\")"
   ]
  },
  {
   "cell_type": "code",
   "execution_count": 3,
   "metadata": {},
   "outputs": [],
   "source": [
    "from src.utils.common import read_yaml, create_directories\n",
    "\n",
    "class ConfigurationManager:\n",
    "    def __init__(\n",
    "        self,\n",
    "        config_filepath: str = CONFIG_FILE_PATH,\n",
    "        params_filepath: str = PARAMS_FILE_PATH,\n",
    "        schema_filepath: str = SCHEMA_FILE_PATH,\n",
    "    ):\n",
    "        self.config = read_yaml(Path(config_filepath))\n",
    "        self.params = read_yaml(Path(params_filepath))\n",
    "        self.schema = read_yaml(Path(schema_filepath))\n",
    "        \n",
    "        create_directories([self.config.artifacts_root])\n",
    "    \n",
    "    def get_data_transformation_config(self):\n",
    "        config = self.config.data_transformation\n",
    "        \n",
    "        create_directories([config.root_dir])\n",
    "        \n",
    "        data_transformation_config = DataTransformationConfig(\n",
    "            root_dir=config.root_dir,\n",
    "            source_path=config.source_path,\n",
    "            cleaned_data_path=config.cleaned_data_path,\n",
    "            transformed_data_path=config.transformed_data_path,\n",
    "            train_data_path=config.train_data_path,\n",
    "            test_data_path=config.test_data_path,\n",
    "        )\n",
    "        \n",
    "        return data_transformation_config\n",
    "    \n",
    "    def get_model_predictor_config(self):\n",
    "        \"\"\"\n",
    "        Get configuration for model training\n",
    "        \"\"\"\n",
    "        config = self.config.model_evaluation\n",
    "\n",
    "        create_directories([config.root_dir])\n",
    "        \n",
    "        model_predictor_config = ModelPredictorConfig(\n",
    "            root_dir = Path(config.root_dir),\n",
    "            model_path = Path(config.model_path),\n",
    "        )\n",
    "        \n",
    "        return model_predictor_config"
   ]
  },
  {
   "cell_type": "code",
   "execution_count": 4,
   "metadata": {},
   "outputs": [],
   "source": [
    "class ModelPredictor:\n",
    "    def __init__(self, config: ModelPredictorConfig):\n",
    "        self.config = config\n",
    "        self.model = self.get_model()\n",
    "        \n",
    "    def get_model(self):\n",
    "        logger.info(\"Load model\")\n",
    "        model = None        \n",
    "        with open(self.config.model_path, 'rb') as f:\n",
    "            model = joblib.load(f)\n",
    "        return model\n",
    "    \n",
    "    def predict(self, data: np.array) -> np.array:\n",
    "        \"\"\"\n",
    "        Predict the data\n",
    "        \n",
    "        Args:\n",
    "            data (np.array): Preprocessed text\n",
    "        Return:\n",
    "            np.array: Prediction results\n",
    "        \"\"\"\n",
    "        logger.info(\"Predict\")\n",
    "        prediction = self.model.predict(data)\n",
    "        return prediction"
   ]
  },
  {
   "cell_type": "code",
   "execution_count": 5,
   "metadata": {},
   "outputs": [
    {
     "name": "stdout",
     "output_type": "stream",
     "text": [
      "2024-03-13 15:24:41,478 - sentiment-classifier-logger - INFO - yaml file: config\\config.yaml loaded successfully\n",
      "2024-03-13 15:24:41,480 - sentiment-classifier-logger - INFO - yaml file: params.yaml loaded successfully\n",
      "2024-03-13 15:24:41,484 - sentiment-classifier-logger - INFO - yaml file: schema.yaml loaded successfully\n",
      "2024-03-13 15:24:41,485 - sentiment-classifier-logger - INFO - Created directory at: artifacts\n",
      "2024-03-13 15:24:41,487 - sentiment-classifier-logger - INFO - Created directory at: artifacts/data_transformation\n",
      "2024-03-13 15:24:41,549 - sentiment-classifier-logger - INFO - Created directory at: artifacts/model_evaluation\n",
      "2024-03-13 15:24:41,551 - sentiment-classifier-logger - INFO - Load model\n",
      "2024-03-13 15:24:51,223 - sentiment-classifier-logger - INFO - Predict\n",
      "Positive\n"
     ]
    }
   ],
   "source": [
    "try:\n",
    "    configuration_manager = ConfigurationManager()\n",
    "    data_transformation = DataTransformation(configuration_manager.get_data_transformation_config())\n",
    "    model_predictor = ModelPredictor(configuration_manager.get_model_predictor_config())\n",
    "    data = input(\"Review: \")\n",
    "    preprocessed_data = data_transformation.preprocess_text(data)\n",
    "    preprocessed_data = np.array([preprocessed_data])\n",
    "    prediction = model_predictor.predict(preprocessed_data)\n",
    "    if prediction == 1:\n",
    "        print(\"Positive\")\n",
    "    if prediction == 0:\n",
    "        print(\"Negative\")\n",
    "except Exception as e:\n",
    "    logger.error(e)"
   ]
  }
 ],
 "metadata": {
  "kernelspec": {
   "display_name": "nlp-tools",
   "language": "python",
   "name": "python3"
  },
  "language_info": {
   "codemirror_mode": {
    "name": "ipython",
    "version": 3
   },
   "file_extension": ".py",
   "mimetype": "text/x-python",
   "name": "python",
   "nbconvert_exporter": "python",
   "pygments_lexer": "ipython3",
   "version": "3.10.13"
  }
 },
 "nbformat": 4,
 "nbformat_minor": 2
}
