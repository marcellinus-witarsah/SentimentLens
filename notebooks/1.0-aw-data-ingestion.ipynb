{
 "cells": [
  {
   "cell_type": "code",
   "execution_count": 9,
   "metadata": {},
   "outputs": [],
   "source": [
    "%reload_ext autoreload\n",
    "%autoreload 2\n",
    "import os\n",
    "import sys\n",
    "from dotenv import load_dotenv, find_dotenv\n",
    "from dataclasses import dataclass\n",
    "from pathlib import Path\n",
    "load_dotenv(find_dotenv())\n",
    "sys.path.append(os.getenv(\"PROJECT_FOLDER\"))\n",
    "from src.utils.common import logger\n",
    "from src.constants import *\n",
    "\n",
    "@dataclass(frozen=True)\n",
    "class DataIngestionConfig:\n",
    "    root_dir: Path\n",
    "    source_path: Path\n",
    "    target_dir: Path "
   ]
  },
  {
   "cell_type": "code",
   "execution_count": 10,
   "metadata": {},
   "outputs": [],
   "source": [
    "# os.chdir(\"..\")"
   ]
  },
  {
   "cell_type": "code",
   "execution_count": 11,
   "metadata": {},
   "outputs": [],
   "source": [
    "from src.utils.common import read_yaml, create_directories"
   ]
  },
  {
   "cell_type": "code",
   "execution_count": 12,
   "metadata": {},
   "outputs": [],
   "source": [
    "class ConfigurationManager:\n",
    "    def __init__(\n",
    "        self,\n",
    "        config_filepath: str = CONFIG_FILE_PATH,\n",
    "        params_filepath: str = PARAMS_FILE_PATH,\n",
    "        schema_filepath: str = SCHEMA_FILE_PATH,\n",
    "    ):\n",
    "        self.config = read_yaml(Path(config_filepath))\n",
    "        self.params = read_yaml(Path(params_filepath))\n",
    "        self.schema = read_yaml(Path(schema_filepath))\n",
    "        create_directories([self.config.artifacts_root])\n",
    "\n",
    "    def get_data_ingestion_config(self) -> DataIngestionConfig:\n",
    "        \"\"\"\n",
    "        Get configuration for data ingestion\n",
    "        \n",
    "        Returns:\n",
    "            DataIngestionConfig: Configuration for data ingestion\n",
    "        \"\"\"\n",
    "        config = self.config.data_ingestion\n",
    "\n",
    "        create_directories([config.root_dir])\n",
    "\n",
    "        data_ingestion_config = DataIngestionConfig(\n",
    "            root_dir = config.root_dir,\n",
    "            source_path  = config.source_path,\n",
    "            target_dir = config.target_dir,\n",
    "        )\n",
    "        return data_ingestion_config"
   ]
  },
  {
   "cell_type": "code",
   "execution_count": 17,
   "metadata": {},
   "outputs": [],
   "source": [
    "import zipfile\n",
    "\n",
    "class DataIngestion:\n",
    "    def __init__(self, config: DataIngestionConfig):\n",
    "        \"\"\"\n",
    "        Instantiate `DataIngestion` class\n",
    "\n",
    "        Args:\n",
    "            config (DataIngestionConfig): configuration for data ingestion\n",
    "        \"\"\"\n",
    "        self.config = config\n",
    "\n",
    "    def extract_zip_file(self):\n",
    "        \"\"\"Extract `.zip` file\"\"\"\n",
    "        logger.info(\"Extract .zip file\")\n",
    "        target_dir = self.config.target_dir\n",
    "        os.makedirs(target_dir, exist_ok=True)\n",
    "        with zipfile.ZipFile(self.config.source_path, \"r\") as zip_ref:\n",
    "            zip_ref.extractall(target_dir)"
   ]
  },
  {
   "cell_type": "code",
   "execution_count": 18,
   "metadata": {},
   "outputs": [
    {
     "name": "stdout",
     "output_type": "stream",
     "text": [
      "2024-03-13 15:10:15,894 - sentiment-classifier-logger - INFO - yaml file: config\\config.yaml loaded successfully\n",
      "2024-03-13 15:10:15,895 - sentiment-classifier-logger - INFO - yaml file: params.yaml loaded successfully\n",
      "2024-03-13 15:10:15,899 - sentiment-classifier-logger - INFO - yaml file: schema.yaml loaded successfully\n",
      "2024-03-13 15:10:15,900 - sentiment-classifier-logger - INFO - Created directory at: artifacts\n",
      "2024-03-13 15:10:15,902 - sentiment-classifier-logger - INFO - Created directory at: artifacts/data_ingestion\n",
      "2024-03-13 15:10:15,903 - sentiment-classifier-logger - INFO - Extract .zip file\n"
     ]
    }
   ],
   "source": [
    "try:\n",
    "    configuration_manager = ConfigurationManager()\n",
    "    data_ingestion = DataIngestion(config=configuration_manager.get_data_ingestion_config())\n",
    "    data_ingestion.extract_zip_file()\n",
    "except Exception as e:\n",
    "    logger.error(e)\n"
   ]
  }
 ],
 "metadata": {
  "kernelspec": {
   "display_name": "nlp-tools",
   "language": "python",
   "name": "python3"
  },
  "language_info": {
   "codemirror_mode": {
    "name": "ipython",
    "version": 3
   },
   "file_extension": ".py",
   "mimetype": "text/x-python",
   "name": "python",
   "nbconvert_exporter": "python",
   "pygments_lexer": "ipython3",
   "version": "3.10.13"
  }
 },
 "nbformat": 4,
 "nbformat_minor": 2
}
